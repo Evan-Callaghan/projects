{
 "cells": [
  {
   "cell_type": "code",
   "execution_count": null,
   "id": "fbfaaef5-5bf6-430b-9d10-89566b45edba",
   "metadata": {},
   "outputs": [],
   "source": []
  },
  {
   "cell_type": "markdown",
   "id": "1fb304b8-6533-4bed-8436-4ca4059654cf",
   "metadata": {},
   "source": [
    "#### Importing libraries"
   ]
  },
  {
   "cell_type": "code",
   "execution_count": 1,
   "id": "7c37214e-764d-4f5a-8011-c691cf0d43c4",
   "metadata": {},
   "outputs": [],
   "source": [
    "import pandas as pd\n",
    "import numpy as np\n",
    "import sportsdataverse as sdv"
   ]
  },
  {
   "cell_type": "code",
   "execution_count": null,
   "id": "2ddd5484-2ae9-46bf-b507-e53393b36540",
   "metadata": {},
   "outputs": [],
   "source": []
  },
  {
   "cell_type": "markdown",
   "id": "e09f5282-c223-40c4-a959-8281e45bc7ca",
   "metadata": {},
   "source": [
    "#### NHL Player Boxscore Data:"
   ]
  },
  {
   "cell_type": "code",
   "execution_count": null,
   "id": "67b8e425-9c58-4713-8da3-0776c5f15e07",
   "metadata": {},
   "outputs": [],
   "source": []
  },
  {
   "cell_type": "markdown",
   "id": "550da0a5-dbf1-49b5-90fa-d3d0a396c260",
   "metadata": {},
   "source": [
    "#### NHL All-Star Data:"
   ]
  },
  {
   "cell_type": "code",
   "execution_count": 2,
   "id": "1b35bb41-08f9-4ac8-ac0c-e3f8d24f4659",
   "metadata": {},
   "outputs": [
    {
     "data": {
      "text/html": [
       "<div>\n",
       "<style scoped>\n",
       "    .dataframe tbody tr th:only-of-type {\n",
       "        vertical-align: middle;\n",
       "    }\n",
       "\n",
       "    .dataframe tbody tr th {\n",
       "        vertical-align: top;\n",
       "    }\n",
       "\n",
       "    .dataframe thead th {\n",
       "        text-align: right;\n",
       "    }\n",
       "</style>\n",
       "<table border=\"1\" class=\"dataframe\">\n",
       "  <thead>\n",
       "    <tr style=\"text-align: right;\">\n",
       "      <th></th>\n",
       "      <th>season</th>\n",
       "      <th>player_id</th>\n",
       "      <th>player</th>\n",
       "    </tr>\n",
       "  </thead>\n",
       "  <tbody>\n",
       "    <tr>\n",
       "      <th>0</th>\n",
       "      <td>2018</td>\n",
       "      <td>8478444</td>\n",
       "      <td>Brock Boeser, Vancouver Canucks</td>\n",
       "    </tr>\n",
       "    <tr>\n",
       "      <th>1</th>\n",
       "      <td>2018</td>\n",
       "      <td>8476346</td>\n",
       "      <td>Johnny Gaudreau, Calgary Flames</td>\n",
       "    </tr>\n",
       "    <tr>\n",
       "      <th>2</th>\n",
       "      <td>2018</td>\n",
       "      <td>8471685</td>\n",
       "      <td>Anze Kopitar, Los Angeles Kings</td>\n",
       "    </tr>\n",
       "    <tr>\n",
       "      <th>3</th>\n",
       "      <td>2018</td>\n",
       "      <td>8478402</td>\n",
       "      <td>Connor McDavid, Edmonton Oilers</td>\n",
       "    </tr>\n",
       "    <tr>\n",
       "      <th>4</th>\n",
       "      <td>2018</td>\n",
       "      <td>8471707</td>\n",
       "      <td>James Neal, Vegas Golden Knights</td>\n",
       "    </tr>\n",
       "  </tbody>\n",
       "</table>\n",
       "</div>"
      ],
      "text/plain": [
       "   season  player_id                            player\n",
       "0    2018    8478444   Brock Boeser, Vancouver Canucks\n",
       "1    2018    8476346   Johnny Gaudreau, Calgary Flames\n",
       "2    2018    8471685   Anze Kopitar, Los Angeles Kings\n",
       "3    2018    8478402   Connor McDavid, Edmonton Oilers\n",
       "4    2018    8471707  James Neal, Vegas Golden Knights"
      ]
     },
     "execution_count": 2,
     "metadata": {},
     "output_type": "execute_result"
    }
   ],
   "source": [
    "allstars = pd.read_excel('allstars.xlsx')\n",
    "allstars.head()"
   ]
  },
  {
   "cell_type": "code",
   "execution_count": 3,
   "id": "a9b213a0-fcb4-4d64-a919-d0fd85677a26",
   "metadata": {},
   "outputs": [
    {
     "name": "stdout",
     "output_type": "stream",
     "text": [
      "<class 'pandas.core.frame.DataFrame'>\n",
      "RangeIndex: 147 entries, 0 to 146\n",
      "Data columns (total 3 columns):\n",
      " #   Column     Non-Null Count  Dtype \n",
      "---  ------     --------------  ----- \n",
      " 0   season     147 non-null    int64 \n",
      " 1   player_id  147 non-null    int64 \n",
      " 2   player     147 non-null    object\n",
      "dtypes: int64(2), object(1)\n",
      "memory usage: 3.6+ KB\n"
     ]
    }
   ],
   "source": [
    "allstars.info()"
   ]
  },
  {
   "cell_type": "code",
   "execution_count": 4,
   "id": "1ffcc0b1-415c-43a3-ace3-86ff8128c18e",
   "metadata": {},
   "outputs": [
    {
     "data": {
      "text/html": [
       "<div>\n",
       "<style scoped>\n",
       "    .dataframe tbody tr th:only-of-type {\n",
       "        vertical-align: middle;\n",
       "    }\n",
       "\n",
       "    .dataframe tbody tr th {\n",
       "        vertical-align: top;\n",
       "    }\n",
       "\n",
       "    .dataframe thead th {\n",
       "        text-align: right;\n",
       "    }\n",
       "</style>\n",
       "<table border=\"1\" class=\"dataframe\">\n",
       "  <thead>\n",
       "    <tr style=\"text-align: right;\">\n",
       "      <th></th>\n",
       "      <th>season</th>\n",
       "      <th>player_id</th>\n",
       "    </tr>\n",
       "  </thead>\n",
       "  <tbody>\n",
       "    <tr>\n",
       "      <th>count</th>\n",
       "      <td>147.000000</td>\n",
       "      <td>1.470000e+02</td>\n",
       "    </tr>\n",
       "    <tr>\n",
       "      <th>mean</th>\n",
       "      <td>2019.761905</td>\n",
       "      <td>8.475926e+06</td>\n",
       "    </tr>\n",
       "    <tr>\n",
       "      <th>std</th>\n",
       "      <td>1.482008</td>\n",
       "      <td>2.807795e+03</td>\n",
       "    </tr>\n",
       "    <tr>\n",
       "      <th>min</th>\n",
       "      <td>2018.000000</td>\n",
       "      <td>8.470595e+06</td>\n",
       "    </tr>\n",
       "    <tr>\n",
       "      <th>25%</th>\n",
       "      <td>2019.000000</td>\n",
       "      <td>8.474564e+06</td>\n",
       "    </tr>\n",
       "    <tr>\n",
       "      <th>50%</th>\n",
       "      <td>2020.000000</td>\n",
       "      <td>8.476346e+06</td>\n",
       "    </tr>\n",
       "    <tr>\n",
       "      <th>75%</th>\n",
       "      <td>2021.000000</td>\n",
       "      <td>8.478402e+06</td>\n",
       "    </tr>\n",
       "    <tr>\n",
       "      <th>max</th>\n",
       "      <td>2022.000000</td>\n",
       "      <td>8.481559e+06</td>\n",
       "    </tr>\n",
       "  </tbody>\n",
       "</table>\n",
       "</div>"
      ],
      "text/plain": [
       "            season     player_id\n",
       "count   147.000000  1.470000e+02\n",
       "mean   2019.761905  8.475926e+06\n",
       "std       1.482008  2.807795e+03\n",
       "min    2018.000000  8.470595e+06\n",
       "25%    2019.000000  8.474564e+06\n",
       "50%    2020.000000  8.476346e+06\n",
       "75%    2021.000000  8.478402e+06\n",
       "max    2022.000000  8.481559e+06"
      ]
     },
     "execution_count": 4,
     "metadata": {},
     "output_type": "execute_result"
    }
   ],
   "source": [
    "allstars.describe()"
   ]
  },
  {
   "cell_type": "markdown",
   "id": "9d8a4c7f-5332-4244-939a-1d23fb3f2a82",
   "metadata": {},
   "source": [
    "##### NHL Schedule Data:"
   ]
  },
  {
   "cell_type": "code",
   "execution_count": 5,
   "id": "c8d29e82-1b2c-437c-a7ee-9e2266ff0315",
   "metadata": {},
   "outputs": [
    {
     "name": "stderr",
     "output_type": "stream",
     "text": [
      "100%|██████████| 1/1 [00:00<00:00,  2.31it/s]\n",
      "100%|██████████| 1/1 [00:00<00:00,  6.12it/s]\n",
      "100%|██████████| 1/1 [00:00<00:00,  6.18it/s]\n",
      "100%|██████████| 1/1 [00:00<00:00,  5.67it/s]\n",
      "100%|██████████| 1/1 [00:00<00:00,  4.21it/s]\n"
     ]
    },
    {
     "data": {
      "text/html": [
       "<div>\n",
       "<style scoped>\n",
       "    .dataframe tbody tr th:only-of-type {\n",
       "        vertical-align: middle;\n",
       "    }\n",
       "\n",
       "    .dataframe tbody tr th {\n",
       "        vertical-align: top;\n",
       "    }\n",
       "\n",
       "    .dataframe thead th {\n",
       "        text-align: right;\n",
       "    }\n",
       "</style>\n",
       "<table border=\"1\" class=\"dataframe\">\n",
       "  <thead>\n",
       "    <tr style=\"text-align: right;\">\n",
       "      <th></th>\n",
       "      <th>season</th>\n",
       "      <th>game_id</th>\n",
       "      <th>game_date</th>\n",
       "      <th>home_team_name</th>\n",
       "      <th>home_score</th>\n",
       "      <th>away_team_name</th>\n",
       "      <th>away_score</th>\n",
       "    </tr>\n",
       "  </thead>\n",
       "  <tbody>\n",
       "    <tr>\n",
       "      <th>0</th>\n",
       "      <td>2018</td>\n",
       "      <td>2017020001</td>\n",
       "      <td>2017-10-04</td>\n",
       "      <td>Winnipeg Jets</td>\n",
       "      <td>2</td>\n",
       "      <td>Toronto Maple Leafs</td>\n",
       "      <td>7</td>\n",
       "    </tr>\n",
       "    <tr>\n",
       "      <th>1</th>\n",
       "      <td>2018</td>\n",
       "      <td>2017020002</td>\n",
       "      <td>2017-10-05</td>\n",
       "      <td>Pittsburgh Penguins</td>\n",
       "      <td>4</td>\n",
       "      <td>St. Louis Blues</td>\n",
       "      <td>5</td>\n",
       "    </tr>\n",
       "    <tr>\n",
       "      <th>2</th>\n",
       "      <td>2018</td>\n",
       "      <td>2017020003</td>\n",
       "      <td>2017-10-05</td>\n",
       "      <td>Edmonton Oilers</td>\n",
       "      <td>3</td>\n",
       "      <td>Calgary Flames</td>\n",
       "      <td>0</td>\n",
       "    </tr>\n",
       "    <tr>\n",
       "      <th>3</th>\n",
       "      <td>2018</td>\n",
       "      <td>2017020004</td>\n",
       "      <td>2017-10-05</td>\n",
       "      <td>San Jose Sharks</td>\n",
       "      <td>3</td>\n",
       "      <td>Philadelphia Flyers</td>\n",
       "      <td>5</td>\n",
       "    </tr>\n",
       "    <tr>\n",
       "      <th>4</th>\n",
       "      <td>2018</td>\n",
       "      <td>2017020005</td>\n",
       "      <td>2017-10-05</td>\n",
       "      <td>Boston Bruins</td>\n",
       "      <td>4</td>\n",
       "      <td>Nashville Predators</td>\n",
       "      <td>3</td>\n",
       "    </tr>\n",
       "  </tbody>\n",
       "</table>\n",
       "</div>"
      ],
      "text/plain": [
       "   season     game_id  game_date       home_team_name  home_score  \\\n",
       "0    2018  2017020001 2017-10-04        Winnipeg Jets           2   \n",
       "1    2018  2017020002 2017-10-05  Pittsburgh Penguins           4   \n",
       "2    2018  2017020003 2017-10-05      Edmonton Oilers           3   \n",
       "3    2018  2017020004 2017-10-05      San Jose Sharks           3   \n",
       "4    2018  2017020005 2017-10-05        Boston Bruins           4   \n",
       "\n",
       "        away_team_name  away_score  \n",
       "0  Toronto Maple Leafs           7  \n",
       "1      St. Louis Blues           5  \n",
       "2       Calgary Flames           0  \n",
       "3  Philadelphia Flyers           5  \n",
       "4  Nashville Predators           3  "
      ]
     },
     "execution_count": 5,
     "metadata": {},
     "output_type": "execute_result"
    }
   ],
   "source": [
    "schedule = pd.DataFrame()\n",
    "\n",
    "for year in range(2018, 2023):\n",
    "    \n",
    "    schedule_temp = sdv.nhl.nhl_loaders.load_nhl_schedule(seasons = year, return_as_pandas = True)\n",
    "    \n",
    "    schedule_temp = schedule_temp[['season', 'game_id', 'game_date', 'home_team_name', 'home_score', 'away_team_name', 'away_score']]\n",
    "    \n",
    "    schedule = pd.concat([schedule, schedule_temp]).reset_index(drop = True)\n",
    "    \n",
    "schedule = schedule.sort_values('game_id', ascending = True).reset_index(drop = True)\n",
    "\n",
    "schedule.head()"
   ]
  },
  {
   "cell_type": "code",
   "execution_count": 6,
   "id": "d2f22f99-387b-4b3e-9469-ddc667d47c6d",
   "metadata": {},
   "outputs": [
    {
     "name": "stdout",
     "output_type": "stream",
     "text": [
      "<class 'pandas.core.frame.DataFrame'>\n",
      "RangeIndex: 6278 entries, 0 to 6277\n",
      "Data columns (total 7 columns):\n",
      " #   Column          Non-Null Count  Dtype                \n",
      "---  ------          --------------  -----                \n",
      " 0   season          6278 non-null   int32[pyarrow]       \n",
      " 1   game_id         6278 non-null   int32[pyarrow]       \n",
      " 2   game_date       6278 non-null   date32[day][pyarrow] \n",
      " 3   home_team_name  6278 non-null   large_string[pyarrow]\n",
      " 4   home_score      6278 non-null   int32[pyarrow]       \n",
      " 5   away_team_name  6278 non-null   large_string[pyarrow]\n",
      " 6   away_score      6278 non-null   int32[pyarrow]       \n",
      "dtypes: date32[day][pyarrow](1), int32[pyarrow](4), large_string[pyarrow](2)\n",
      "memory usage: 430.1 KB\n"
     ]
    }
   ],
   "source": [
    "schedule.info()"
   ]
  }
 ],
 "metadata": {
  "kernelspec": {
   "display_name": "Python 3 (ipykernel)",
   "language": "python",
   "name": "python3"
  },
  "language_info": {
   "codemirror_mode": {
    "name": "ipython",
    "version": 3
   },
   "file_extension": ".py",
   "mimetype": "text/x-python",
   "name": "python",
   "nbconvert_exporter": "python",
   "pygments_lexer": "ipython3",
   "version": "3.9.12"
  }
 },
 "nbformat": 4,
 "nbformat_minor": 5
}
